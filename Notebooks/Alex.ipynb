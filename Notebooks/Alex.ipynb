{
 "cells": [
  {
   "cell_type": "markdown",
   "metadata": {},
   "source": [
    "# Versuch 1"
   ]
  },
  {
   "cell_type": "code",
   "execution_count": 13,
   "metadata": {},
   "outputs": [],
   "source": [
    "class Battery:\n",
    "    def __init__(self, SoC=0, max=10):\n",
    "        self.SoC = SoC\n",
    "        self.max = max\n",
    "    def charge(self, kWh):\n",
    "        if (self.SoC + kWh) > self.max:\n",
    "            print(\"Laden fehlgeschlagen, SoC > max\")\n",
    "        else:\n",
    "            self.SoC +=kWh\n",
    "    def discharge(self, kWh):\n",
    "        if (self.SoC - kWh) < 0:\n",
    "            print(\"Laden fehlgeschlagen, SoC < min\")\n",
    "        else:\n",
    "            self.SoC -= kWh"
   ]
  },
  {
   "cell_type": "code",
   "execution_count": 14,
   "metadata": {},
   "outputs": [],
   "source": [
    "Batterie = Battery(max=100)"
   ]
  },
  {
   "cell_type": "code",
   "execution_count": 20,
   "metadata": {},
   "outputs": [
    {
     "name": "stdout",
     "output_type": "stream",
     "text": [
      "1\n"
     ]
    }
   ],
   "source": [
    "print(Batterie.SoC)"
   ]
  },
  {
   "cell_type": "code",
   "execution_count": 21,
   "metadata": {},
   "outputs": [
    {
     "name": "stdout",
     "output_type": "stream",
     "text": [
      "Laden fehlgeschlagen, SoC < min\n"
     ]
    }
   ],
   "source": [
    "Batterie.discharge(99)"
   ]
  },
  {
   "cell_type": "code",
   "execution_count": null,
   "metadata": {},
   "outputs": [],
   "source": []
  }
 ],
 "metadata": {
  "kernelspec": {
   "display_name": "FH_EMS",
   "language": "python",
   "name": "python3"
  },
  "language_info": {
   "codemirror_mode": {
    "name": "ipython",
    "version": 3
   },
   "file_extension": ".py",
   "mimetype": "text/x-python",
   "name": "python",
   "nbconvert_exporter": "python",
   "pygments_lexer": "ipython3",
   "version": "3.12.7"
  }
 },
 "nbformat": 4,
 "nbformat_minor": 2
}
