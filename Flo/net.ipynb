{
 "cells": [
  {
   "cell_type": "markdown",
   "metadata": {},
   "source": [
    "Elektrisches Netz"
   ]
  },
  {
   "cell_type": "code",
   "execution_count": null,
   "metadata": {},
   "outputs": [],
   "source": [
    "import pandapower as pp\n",
    "import pandapower.plotting as plot\n",
    "import numpy as np\n",
    "import pandas as pd\n",
    "import pv_battery_model\n",
    "import matplotlib.pyplot as plt"
   ]
  },
  {
   "cell_type": "code",
   "execution_count": null,
   "metadata": {},
   "outputs": [],
   "source": [
    "# Erstellung eines leeren Netzes\n",
    "net = pp.create_empty_network()"
   ]
  },
  {
   "cell_type": "code",
   "execution_count": null,
   "metadata": {},
   "outputs": [],
   "source": [
    "# create bus\n",
    "mv_bus = pp.create_bus(net, vn_kv=20, name=\"MV Bus\")  # Mittelspannungsseite\n",
    "lv_bus = pp.create_bus(net, vn_kv=0.4, name=\"LV Bus\")  # Niederspannungsseite\n",
    "\n",
    "v1_1 = pp.create_bus(net, vn_kv=0.4, name=\"v1.1\")\n",
    "v1_2 = pp.create_bus(net, vn_kv=0.4, name=\"v1.2\")\n",
    "v1_2_1_1 = pp.create_bus(net, vn_kv=0.4, name=\"v1.2.1.1\")\n",
    "v1_2_1_2 = pp.create_bus(net, vn_kv=0.4, name=\"v1.2.1.2\")\n",
    "v1_2_2_1 = pp.create_bus(net, vn_kv=0.4, name=\"v1.2.2.1\")\n",
    "v1_2_2_2 = pp.create_bus(net, vn_kv=0.4, name=\"v1.2.2.2\")\n",
    "v2_1 = pp.create_bus(net, vn_kv=0.4, name=\"v2.1\")\n",
    "v2_2 = pp.create_bus(net, vn_kv=0.4, name=\"v2.2\")\n",
    "v2_2_1_1 = pp.create_bus(net, vn_kv=0.4, name=\"v2.2.1.1\")\n",
    "v2_2_1_2 = pp.create_bus(net, vn_kv=0.4, name=\"v2.2.1.2\")\n",
    "v2_2_2_1 = pp.create_bus(net, vn_kv=0.4, name=\"v2.2.2.1\")\n",
    "v2_2_2_2 = pp.create_bus(net, vn_kv=0.4, name=\"v2.2.2.2\")"
   ]
  },
  {
   "cell_type": "code",
   "execution_count": null,
   "metadata": {},
   "outputs": [],
   "source": [
    "# external grid\n",
    "pp.create_ext_grid(net, mv_bus, vm_pu=1.02, name=\"external grid\")"
   ]
  },
  {
   "cell_type": "code",
   "execution_count": null,
   "metadata": {},
   "outputs": [],
   "source": [
    "# create transformer\n",
    "pp.create_transformer(net, mv_bus, lv_bus, std_type=\"0.4 MVA 20/0.4 kV\")\n",
    "#print(pp.available_std_types(net, \"trafo\"))     # zeigt mir verschiedene verfügbare Trafos"
   ]
  },
  {
   "cell_type": "code",
   "execution_count": null,
   "metadata": {},
   "outputs": [],
   "source": [
    "# create line\n",
    "pp.create_line(net, lv_bus, v1_1, std_type=\"NAYY 4x50 SE\", length_km=0.05, name=\"line1.1\")\n",
    "pp.create_line(net, v1_1, v1_2, std_type=\"NAYY 4x50 SE\", length_km=0.05, name=\"line1.2\")\n",
    "pp.create_line(net, v1_2, v1_2_1_1, std_type=\"NAYY 4x50 SE\", length_km=0.05, name=\"line1.2.1.1\")\n",
    "pp.create_line(net, v1_2_1_1, v1_2_1_2, std_type=\"NAYY 4x50 SE\", length_km=0.05, name=\"line1.2.1.2\")\n",
    "pp.create_line(net, v1_2, v1_2_2_1, std_type=\"NAYY 4x50 SE\", length_km=0.05, name=\"line1.2.2.1\")\n",
    "pp.create_line(net, v1_2_2_1, v1_2_2_2, std_type=\"NAYY 4x50 SE\", length_km=0.05, name=\"line1.2.2.2\")\n",
    "pp.create_line(net, lv_bus, v2_1, std_type=\"NAYY 4x50 SE\", length_km=0.05, name=\"line2_1\")\n",
    "pp.create_line(net, v2_1, v2_2, std_type=\"NAYY 4x50 SE\", length_km=0.05, name=\"line2.2\")\n",
    "pp.create_line(net, v2_2, v2_2_1_1, std_type=\"NAYY 4x50 SE\", length_km=0.05, name=\"line2.2.1.1\")\n",
    "pp.create_line(net, v2_2_1_1, v2_2_1_2, std_type=\"NAYY 4x50 SE\", length_km=0.05, name=\"line2.2.1.2\")\n",
    "pp.create_line(net, v2_2, v2_2_2_1, std_type=\"NAYY 4x50 SE\", length_km=0.05, name=\"line2.2.2.1\")\n",
    "pp.create_line(net, v2_2_2_1, v2_2_2_2, std_type=\"NAYY 4x50 SE\", length_km=0.05, name=\"line2.2.2.2\")\n",
    "#print(pp.available_std_types(net))                # zeigt mir verschiedene verfügbare Kabeltypen"
   ]
  },
  {
   "cell_type": "code",
   "execution_count": null,
   "metadata": {},
   "outputs": [],
   "source": [
    "# Variablenzuweisung für Lasten und Erzeuger\n",
    "l_1_1 = pp.create_load(net, v1_1, p_mw=0.1, q_mvar=0.01, name=\"L1.1\")\n",
    "l_1_2 = pp.create_load(net, v1_2, p_mw=0.0, q_mvar=0.01, name=\"L1.2\")\n",
    "l_1_2_1_1 = pp.create_load(net, v1_2_1_1, p_mw=0.0, q_mvar=0.01, name=\"L1.2.1.1\")\n",
    "l_1_2_1_2 = pp.create_load(net, v1_2_1_2, p_mw=0.0, q_mvar=0.01, name=\"L1.2.1.2\")\n",
    "l_1_2_2_1 = pp.create_load(net, v1_2_2_1, p_mw=0.0, q_mvar=0.01, name=\"L1.2.2.1\")\n",
    "l_1_2_2_2 = pp.create_load(net, v1_2_2_2, p_mw=0.0, q_mvar=0.01, name=\"L1.2.2.2\")\n",
    "l_2_1 = pp.create_load(net, v2_1, p_mw=0.0, q_mvar=0.01, name=\"L2.1\")\n",
    "l_2_2 = pp.create_load(net, v2_2, p_mw=0.1, q_mvar=0.01, name=\"L2.2\")\n",
    "l_2_2_1_1 = pp.create_load(net, v2_2_1_1, p_mw=0.0, q_mvar=0.01, name=\"L2.2.1.1\")\n",
    "l_2_2_1_2 = pp.create_load(net, v2_2_1_2, p_mw=0.0, q_mvar=0.01, name=\"L2.2.1.2\")\n",
    "l_2_2_2_1 = pp.create_load(net, v2_2_2_1, p_mw=0.1, q_mvar=0.01, name=\"L2.2.2.1\")\n",
    "l_2_2_2_2 = pp.create_load(net, v2_2_2_2, p_mw=0.0, q_mvar=0.01, name=\"L2.2.2.2\")"
   ]
  },
  {
   "cell_type": "code",
   "execution_count": null,
   "metadata": {},
   "outputs": [],
   "source": [
    "# Variablenzuweisung für Erzeuger\n",
    "e_1_1 = pp.create_sgen(net, v1_1, p_mw=0.02, q_mvar=0.005, name=\"E1.1\")\n",
    "e_1_2 = pp.create_sgen(net, v1_2, p_mw=0.03, q_mvar=0.005, name=\"E1.2\")\n",
    "e_1_2_1_1 = pp.create_sgen(net, v1_2_1_1, p_mw=0.04, q_mvar=0.005, name=\"E1.2.1.1\")\n",
    "e_1_2_1_2 = pp.create_sgen(net, v1_2_1_2, p_mw=0.05, q_mvar=0.005, name=\"E1.2.1.2\")\n",
    "e_1_2_2_1 = pp.create_sgen(net, v1_2_2_1, p_mw=0.06, q_mvar=0.005, name=\"E1.2.2.1\")\n",
    "e_1_2_2_2 = pp.create_sgen(net, v1_2_2_2, p_mw=0.07, q_mvar=0.005, name=\"E1.2.2.2\")\n",
    "e_2_1 = pp.create_sgen(net, v2_1, p_mw=0.08, q_mvar=0.005, name=\"E2.1\")\n",
    "e_2_2 = pp.create_sgen(net, v2_2, p_mw=0.09, q_mvar=0.005, name=\"E2.2\")\n",
    "e_2_2_1_1 = pp.create_sgen(net, v2_2_1_1, p_mw=0.1, q_mvar=0.005, name=\"E2.2.1.1\")\n",
    "e_2_2_1_2 = pp.create_sgen(net, v2_2_1_2, p_mw=0.11, q_mvar=0.005, name=\"E2.2.1.2\")\n",
    "e_2_2_2_1 = pp.create_sgen(net, v2_2_2_1, p_mw=0.12, q_mvar=0.005, name=\"E2.2.2.1\")\n",
    "e_2_2_2_2 = pp.create_sgen(net, v2_2_2_2, p_mw=0.13, q_mvar=0.005, name=\"E2.2.2.2\")\n"
   ]
  },
  {
   "cell_type": "code",
   "execution_count": null,
   "metadata": {},
   "outputs": [],
   "source": [
    "# PV Daten einlesen\n",
    "filename_pv = \"C:/Users/flori/EMS/EMS_Projekt/Flo/files/pv_1kWp.csv\" \n",
    "pv_1_data = pv_battery_model.pv(50, filename_pv) / 1000\n",
    "pv_2_data = pv_battery_model.pv(50, filename_pv) / 1000\n",
    "pv_3_data = pv_battery_model.pv(20, filename_pv) / 1000"
   ]
  },
  {
   "cell_type": "code",
   "execution_count": null,
   "metadata": {},
   "outputs": [],
   "source": [
    "\n",
    "# Ergebnisse speichern\n",
    "results = []\n",
    "\n",
    "# Simulation über alle Zeitschritte\n",
    "for t in range(2000):\n",
    "\n",
    "    # PV-Leistungen für diesen Zeitschritt setzen\n",
    "    # PV-Daten zuweisen\n",
    "    net.sgen.at[e_1_1, \"p_mw\"] = pv_1_data[t]\n",
    "    net.sgen.at[e_1_2, \"p_mw\"] = pv_1_data[t]\n",
    "    net.sgen.at[e_1_2_1_1, \"p_mw\"] = pv_1_data[t]\n",
    "    net.sgen.at[e_1_2_1_2, \"p_mw\"] = pv_1_data[t]\n",
    "    net.sgen.at[e_1_2_2_1, \"p_mw\"] = pv_1_data[t]\n",
    "    net.sgen.at[e_1_2_2_2, \"p_mw\"] = pv_1_data[t]\n",
    "    net.sgen.at[e_2_1, \"p_mw\"] = pv_2_data[t]\n",
    "    net.sgen.at[e_2_2, \"p_mw\"] = pv_2_data[t]\n",
    "    net.sgen.at[e_2_2_1_1, \"p_mw\"] = pv_3_data[t]\n",
    "    net.sgen.at[e_2_2_1_2, \"p_mw\"] = pv_3_data[t]\n",
    "    net.sgen.at[e_2_2_2_1, \"p_mw\"] = pv_3_data[t]\n",
    "    net.sgen.at[e_2_2_2_2, \"p_mw\"] = pv_3_data[t]\n",
    "\n",
    "    \n",
    "    if(t < 1000):\n",
    "        net.load.at[l_1_1, \"p_mw\"] =  0.2\n",
    "    elif(t < 2000):\n",
    "        net.load.at[l_1_1, \"p_mw\"] =  0.1\n",
    "    elif(t < 3000):\n",
    "        net.load.at[l_1_1, \"p_mw\"] =  0.05\n",
    "    elif(t < 4000):\n",
    "        net.load.at[l_1_1, \"p_mw\"] =  0.3\n",
    "    elif(t < 5000):\n",
    "        net.load.at[l_1_1, \"p_mw\"] =  0.2\n",
    "    elif(t < 6000):\n",
    "        net.load.at[l_1_1, \"p_mw\"] =  0.0\n",
    "    elif(t < 7000):\n",
    "        net.load.at[l_1_1, \"p_mw\"] =  0.2    \n",
    "\n",
    "    pp.runpp(net)\n",
    "\n",
    "    # zum prüfen des Netzes, bei einer Fehlermeldung\n",
    "    # try:\n",
    "    #     pp.runpp(net)\n",
    "    # except pp.pandapower.powerflow.LoadflowNotConverged:\n",
    "    #     print(\"Lastfluss nicht konvergiert!\")\n",
    "    #     print(\"Knotenspannungen:\")\n",
    "    #     print(net.res_bus)\n",
    "    #     print(\"Leitungsbelastungen:\")\n",
    "    #     print(net.res_line)\n",
    "    \n",
    "    # Ergebnisse speichern\n",
    "    results.append({\n",
    "        \"time\": t,\n",
    "        \"voltage_bus_lv\": net.res_bus.at[lv_bus, \"vm_pu\"],\n",
    "        \"voltage_bus_load_1_1\": net.res_bus.at[v1_1, \"vm_pu\"],\n",
    "        \"voltage_bus_load_1_2\": net.res_bus.at[v1_2, \"vm_pu\"],\n",
    "        \"voltage_bus_load_1_2_1_1\": net.res_bus.at[v1_2_1_1, \"vm_pu\"],\n",
    "        \"voltage_bus_load_1_2_1_2\": net.res_bus.at[v1_2_1_2, \"vm_pu\"],\n",
    "        \"voltage_bus_load_1_2_2_1\": net.res_bus.at[v1_2_2_1, \"vm_pu\"],\n",
    "        \"voltage_bus_load_1_2_2_2\": net.res_bus.at[v1_2_2_2, \"vm_pu\"],\n",
    "        \"voltage_bus_load_2_1\": net.res_bus.at[v2_1, \"vm_pu\"],\n",
    "        \"voltage_bus_load_2_2\": net.res_bus.at[v2_2, \"vm_pu\"],\n",
    "        \"voltage_bus_load_2_2_1_1\": net.res_bus.at[v2_2_1_1, \"vm_pu\"],\n",
    "        \"voltage_bus_load_2_2_1_2\": net.res_bus.at[v2_2_1_2, \"vm_pu\"],\n",
    "        \"voltage_bus_load_2_2_2_1\": net.res_bus.at[v2_2_2_1, \"vm_pu\"],\n",
    "        \"voltage_bus_load_2_2_2_2\": net.res_bus.at[v2_2_2_2, \"vm_pu\"]\n",
    "    })\n",
    "\n",
    "# Ergebnisse in DataFrame umwandeln\n",
    "results_df = pd.DataFrame(results)\n",
    "print(results_df.head())\n",
    "\n",
    "load_results = net.res_load.join(net.load[\"name\"], how='left')\n",
    "print(load_results)"
   ]
  },
  {
   "cell_type": "code",
   "execution_count": null,
   "metadata": {},
   "outputs": [],
   "source": [
    "# Ergebnisse speichern in eine CSV Datei\n",
    "results_df.to_csv(\"C:/Users/flori/EMS/EMS_Projekt/Flo/files/typical_pv_results.csv\", index=False)\n"
   ]
  },
  {
   "cell_type": "code",
   "execution_count": null,
   "metadata": {},
   "outputs": [],
   "source": [
    "# Plot des Netzes\n",
    "plot.simple_plot(net, show_plot=True, plot_gens=True, plot_loads=True, plot_sgens=True)"
   ]
  },
  {
   "cell_type": "code",
   "execution_count": null,
   "metadata": {},
   "outputs": [],
   "source": [
    "# Spannungen plotten\n",
    "plt.figure(figsize=(12, 6))\n",
    "plt.plot(results_df[\"time\"], results_df[\"voltage_bus_lv\"], label=\"LV Bus\")\n",
    "plt.plot(results_df[\"time\"], results_df[\"voltage_bus_load_1_1\"], label=\"Load 1-1\")\n",
    "plt.plot(results_df[\"time\"], results_df[\"voltage_bus_load_1_2\"], label=\"Load 1-2\")\n",
    "plt.plot(results_df[\"time\"], results_df[\"voltage_bus_load_2_1\"], label=\"Load 2-1\")\n",
    "plt.plot(results_df[\"time\"], results_df[\"voltage_bus_load_2_2\"], label=\"Load 2-2\")\n",
    "\n",
    "# Titel, Labels und Legende\n",
    "plt.title(\"Spannungsverlauf an verschiedenen Knoten\")\n",
    "plt.xlabel(\"Zeit\")\n",
    "plt.ylabel(\"Spannung [p.u.]\")\n",
    "plt.legend()\n",
    "plt.grid(True)\n",
    "plt.show()"
   ]
  }
 ],
 "metadata": {
  "kernelspec": {
   "display_name": "pandapower312",
   "language": "python",
   "name": "python3"
  },
  "language_info": {
   "name": "python",
   "version": "3.12.7"
  }
 },
 "nbformat": 4,
 "nbformat_minor": 2
}
